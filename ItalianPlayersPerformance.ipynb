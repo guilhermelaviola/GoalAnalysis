{
  "nbformat": 4,
  "nbformat_minor": 0,
  "metadata": {
    "colab": {
      "provenance": [],
      "authorship_tag": "ABX9TyNfTWbMATpag9pM/4W+iFIi",
      "include_colab_link": true
    },
    "kernelspec": {
      "name": "python3",
      "display_name": "Python 3"
    },
    "language_info": {
      "name": "python"
    }
  },
  "cells": [
    {
      "cell_type": "markdown",
      "metadata": {
        "id": "view-in-github",
        "colab_type": "text"
      },
      "source": [
        "<a href=\"https://colab.research.google.com/github/guilhermelaviola/GoalAnalysis/blob/main/ItalianPlayersPerformance.ipynb\" target=\"_parent\"><img src=\"https://colab.research.google.com/assets/colab-badge.svg\" alt=\"Open In Colab\"/></a>"
      ]
    },
    {
      "cell_type": "code",
      "source": [
        "!pip install python-dateutil"
      ],
      "metadata": {
        "id": "KoBG3rwy5qBR",
        "outputId": "269501da-8669-4fc4-e8cf-9b6cd7341eb0",
        "colab": {
          "base_uri": "https://localhost:8080/"
        }
      },
      "execution_count": 1,
      "outputs": [
        {
          "output_type": "stream",
          "name": "stdout",
          "text": [
            "Requirement already satisfied: python-dateutil in /usr/local/lib/python3.10/dist-packages (2.8.2)\n",
            "Requirement already satisfied: six>=1.5 in /usr/local/lib/python3.10/dist-packages (from python-dateutil) (1.16.0)\n"
          ]
        }
      ]
    },
    {
      "cell_type": "code",
      "source": [
        "!pip install requests"
      ],
      "metadata": {
        "id": "XYKaSxCW771D",
        "outputId": "07e9a53f-5c70-420d-85e3-99ab86752265",
        "colab": {
          "base_uri": "https://localhost:8080/"
        }
      },
      "execution_count": 2,
      "outputs": [
        {
          "output_type": "stream",
          "name": "stdout",
          "text": [
            "Requirement already satisfied: requests in /usr/local/lib/python3.10/dist-packages (2.31.0)\n",
            "Requirement already satisfied: charset-normalizer<4,>=2 in /usr/local/lib/python3.10/dist-packages (from requests) (3.3.2)\n",
            "Requirement already satisfied: idna<4,>=2.5 in /usr/local/lib/python3.10/dist-packages (from requests) (3.7)\n",
            "Requirement already satisfied: urllib3<3,>=1.21.1 in /usr/local/lib/python3.10/dist-packages (from requests) (2.0.7)\n",
            "Requirement already satisfied: certifi>=2017.4.17 in /usr/local/lib/python3.10/dist-packages (from requests) (2024.7.4)\n"
          ]
        }
      ]
    },
    {
      "cell_type": "code",
      "source": [
        "!pip install BeautifulSoup4"
      ],
      "metadata": {
        "id": "-bSXid0k8Oir",
        "outputId": "e1efce10-a26f-4ab8-eb35-e3d0759663cb",
        "colab": {
          "base_uri": "https://localhost:8080/"
        }
      },
      "execution_count": 3,
      "outputs": [
        {
          "output_type": "stream",
          "name": "stdout",
          "text": [
            "Requirement already satisfied: BeautifulSoup4 in /usr/local/lib/python3.10/dist-packages (4.12.3)\n",
            "Requirement already satisfied: soupsieve>1.2 in /usr/local/lib/python3.10/dist-packages (from BeautifulSoup4) (2.5)\n"
          ]
        }
      ]
    },
    {
      "cell_type": "code",
      "execution_count": 4,
      "metadata": {
        "colab": {
          "base_uri": "https://localhost:8080/"
        },
        "id": "zlqj2fqojW4N",
        "outputId": "8fac9ff0-763e-48da-d15f-67ace84a2aee"
      },
      "outputs": [
        {
          "output_type": "stream",
          "name": "stderr",
          "text": [
            "<ipython-input-4-26a56e995c40>:12: MatplotlibDeprecationWarning: The seaborn styles shipped by Matplotlib are deprecated since 3.6, as they no longer correspond to the styles shipped by seaborn. However, they will remain available as 'seaborn-v0_8-<style>'. Alternatively, directly use the seaborn API instead.\n",
            "  plt.style.use('seaborn-pastel')\n"
          ]
        }
      ],
      "source": [
        "# Importing all the necessary libraries:\n",
        "import numpy as np\n",
        "import pandas as pd\n",
        "import requests\n",
        "import seaborn as sns\n",
        "import urllib\n",
        "import matplotlib.pyplot as plt\n",
        "from bs4 import BeautifulSoup\n",
        "from dateutil.relativedelta import relativedelta\n",
        "from datetime import datetime, date\n",
        "sns.set(style = 'darkgrid')\n",
        "plt.style.use('seaborn-pastel')"
      ]
    },
    {
      "cell_type": "code",
      "source": [
        "# Importing and displaying the last 10 players:\n",
        "df = pd.ExcelFile('it-players.xlsx')\n",
        "players = pd.read_excel(df, 'it-players-transfermarkt')\n",
        "players.tail(10)"
      ],
      "metadata": {
        "colab": {
          "base_uri": "https://localhost:8080/",
          "height": 363
        },
        "id": "fwDk43_bkGId",
        "outputId": "18858a6f-5186-41ba-d564-7af09054e8f6"
      },
      "execution_count": 5,
      "outputs": [
        {
          "output_type": "execute_result",
          "data": {
            "text/plain": [
              "                    Name                                 Transfermarkt link  \\\n",
              "108        Luca D'Andrea  https://www.transfermarkt.com/luca-dandrea/pro...   \n",
              "109  Stephan El Shaarawy  https://www.transfermarkt.com/stephan-el-shaar...   \n",
              "110       Vincenzo Grifo  https://www.transfermarkt.com/vincenzo-grifo/p...   \n",
              "111      Mattia Zaccagni  https://www.transfermarkt.com/mattia-zaccagni/...   \n",
              "112      Federico Chiesa  https://www.transfermarkt.com/federico-chiesa/...   \n",
              "113        Giuseppe Caso  https://www.transfermarkt.com/giuseppe-caso/pr...   \n",
              "114       Alessio Zerbin  https://www.transfermarkt.com/alessio-zerbin/p...   \n",
              "115      Riccardo Sottil  https://www.transfermarkt.com/riccardo-sottil/...   \n",
              "116        Luca Koleosho  https://www.transfermarkt.com/luca-koleosho/pr...   \n",
              "117      Luca Pellegrini  https://www.transfermarkt.com/luca-pellegrini/...   \n",
              "\n",
              "      Transfermarkt name  Transfermarkt ID       Wikipedia name  Sofascore ID  \n",
              "108         luca-dandrea            725242        Luca_D'Andrea       1122910  \n",
              "109  stephan-el-shaarawy             94529  Stephan_El_Shaarawy         45925  \n",
              "110       vincenzo-grifo            185077       Vincenzo_Grifo        171961  \n",
              "111      mattia-zaccagni            283735      Mattia_Zaccagni        293581  \n",
              "112      federico-chiesa            341092      Federico_Chiesa        845386  \n",
              "113        giuseppe-caso            398030        Giuseppe_Caso        946985  \n",
              "114       alessio-zerbin            433584       Alessio_Zerbin        869888  \n",
              "115      riccardo-sottil            386455      Riccardo_Sottil        893640  \n",
              "116        luca-koleosho            745461        Luca_Koleosho       1216282  \n",
              "117      luca-pellegrini            346567      Luca_Pellegrini        826186  "
            ],
            "text/html": [
              "\n",
              "  <div id=\"df-b764ab25-82b3-4815-bb2d-52ce45e3a2af\" class=\"colab-df-container\">\n",
              "    <div>\n",
              "<style scoped>\n",
              "    .dataframe tbody tr th:only-of-type {\n",
              "        vertical-align: middle;\n",
              "    }\n",
              "\n",
              "    .dataframe tbody tr th {\n",
              "        vertical-align: top;\n",
              "    }\n",
              "\n",
              "    .dataframe thead th {\n",
              "        text-align: right;\n",
              "    }\n",
              "</style>\n",
              "<table border=\"1\" class=\"dataframe\">\n",
              "  <thead>\n",
              "    <tr style=\"text-align: right;\">\n",
              "      <th></th>\n",
              "      <th>Name</th>\n",
              "      <th>Transfermarkt link</th>\n",
              "      <th>Transfermarkt name</th>\n",
              "      <th>Transfermarkt ID</th>\n",
              "      <th>Wikipedia name</th>\n",
              "      <th>Sofascore ID</th>\n",
              "    </tr>\n",
              "  </thead>\n",
              "  <tbody>\n",
              "    <tr>\n",
              "      <th>108</th>\n",
              "      <td>Luca D'Andrea</td>\n",
              "      <td>https://www.transfermarkt.com/luca-dandrea/pro...</td>\n",
              "      <td>luca-dandrea</td>\n",
              "      <td>725242</td>\n",
              "      <td>Luca_D'Andrea</td>\n",
              "      <td>1122910</td>\n",
              "    </tr>\n",
              "    <tr>\n",
              "      <th>109</th>\n",
              "      <td>Stephan El Shaarawy</td>\n",
              "      <td>https://www.transfermarkt.com/stephan-el-shaar...</td>\n",
              "      <td>stephan-el-shaarawy</td>\n",
              "      <td>94529</td>\n",
              "      <td>Stephan_El_Shaarawy</td>\n",
              "      <td>45925</td>\n",
              "    </tr>\n",
              "    <tr>\n",
              "      <th>110</th>\n",
              "      <td>Vincenzo Grifo</td>\n",
              "      <td>https://www.transfermarkt.com/vincenzo-grifo/p...</td>\n",
              "      <td>vincenzo-grifo</td>\n",
              "      <td>185077</td>\n",
              "      <td>Vincenzo_Grifo</td>\n",
              "      <td>171961</td>\n",
              "    </tr>\n",
              "    <tr>\n",
              "      <th>111</th>\n",
              "      <td>Mattia Zaccagni</td>\n",
              "      <td>https://www.transfermarkt.com/mattia-zaccagni/...</td>\n",
              "      <td>mattia-zaccagni</td>\n",
              "      <td>283735</td>\n",
              "      <td>Mattia_Zaccagni</td>\n",
              "      <td>293581</td>\n",
              "    </tr>\n",
              "    <tr>\n",
              "      <th>112</th>\n",
              "      <td>Federico Chiesa</td>\n",
              "      <td>https://www.transfermarkt.com/federico-chiesa/...</td>\n",
              "      <td>federico-chiesa</td>\n",
              "      <td>341092</td>\n",
              "      <td>Federico_Chiesa</td>\n",
              "      <td>845386</td>\n",
              "    </tr>\n",
              "    <tr>\n",
              "      <th>113</th>\n",
              "      <td>Giuseppe Caso</td>\n",
              "      <td>https://www.transfermarkt.com/giuseppe-caso/pr...</td>\n",
              "      <td>giuseppe-caso</td>\n",
              "      <td>398030</td>\n",
              "      <td>Giuseppe_Caso</td>\n",
              "      <td>946985</td>\n",
              "    </tr>\n",
              "    <tr>\n",
              "      <th>114</th>\n",
              "      <td>Alessio Zerbin</td>\n",
              "      <td>https://www.transfermarkt.com/alessio-zerbin/p...</td>\n",
              "      <td>alessio-zerbin</td>\n",
              "      <td>433584</td>\n",
              "      <td>Alessio_Zerbin</td>\n",
              "      <td>869888</td>\n",
              "    </tr>\n",
              "    <tr>\n",
              "      <th>115</th>\n",
              "      <td>Riccardo Sottil</td>\n",
              "      <td>https://www.transfermarkt.com/riccardo-sottil/...</td>\n",
              "      <td>riccardo-sottil</td>\n",
              "      <td>386455</td>\n",
              "      <td>Riccardo_Sottil</td>\n",
              "      <td>893640</td>\n",
              "    </tr>\n",
              "    <tr>\n",
              "      <th>116</th>\n",
              "      <td>Luca Koleosho</td>\n",
              "      <td>https://www.transfermarkt.com/luca-koleosho/pr...</td>\n",
              "      <td>luca-koleosho</td>\n",
              "      <td>745461</td>\n",
              "      <td>Luca_Koleosho</td>\n",
              "      <td>1216282</td>\n",
              "    </tr>\n",
              "    <tr>\n",
              "      <th>117</th>\n",
              "      <td>Luca Pellegrini</td>\n",
              "      <td>https://www.transfermarkt.com/luca-pellegrini/...</td>\n",
              "      <td>luca-pellegrini</td>\n",
              "      <td>346567</td>\n",
              "      <td>Luca_Pellegrini</td>\n",
              "      <td>826186</td>\n",
              "    </tr>\n",
              "  </tbody>\n",
              "</table>\n",
              "</div>\n",
              "    <div class=\"colab-df-buttons\">\n",
              "\n",
              "  <div class=\"colab-df-container\">\n",
              "    <button class=\"colab-df-convert\" onclick=\"convertToInteractive('df-b764ab25-82b3-4815-bb2d-52ce45e3a2af')\"\n",
              "            title=\"Convert this dataframe to an interactive table.\"\n",
              "            style=\"display:none;\">\n",
              "\n",
              "  <svg xmlns=\"http://www.w3.org/2000/svg\" height=\"24px\" viewBox=\"0 -960 960 960\">\n",
              "    <path d=\"M120-120v-720h720v720H120Zm60-500h600v-160H180v160Zm220 220h160v-160H400v160Zm0 220h160v-160H400v160ZM180-400h160v-160H180v160Zm440 0h160v-160H620v160ZM180-180h160v-160H180v160Zm440 0h160v-160H620v160Z\"/>\n",
              "  </svg>\n",
              "    </button>\n",
              "\n",
              "  <style>\n",
              "    .colab-df-container {\n",
              "      display:flex;\n",
              "      gap: 12px;\n",
              "    }\n",
              "\n",
              "    .colab-df-convert {\n",
              "      background-color: #E8F0FE;\n",
              "      border: none;\n",
              "      border-radius: 50%;\n",
              "      cursor: pointer;\n",
              "      display: none;\n",
              "      fill: #1967D2;\n",
              "      height: 32px;\n",
              "      padding: 0 0 0 0;\n",
              "      width: 32px;\n",
              "    }\n",
              "\n",
              "    .colab-df-convert:hover {\n",
              "      background-color: #E2EBFA;\n",
              "      box-shadow: 0px 1px 2px rgba(60, 64, 67, 0.3), 0px 1px 3px 1px rgba(60, 64, 67, 0.15);\n",
              "      fill: #174EA6;\n",
              "    }\n",
              "\n",
              "    .colab-df-buttons div {\n",
              "      margin-bottom: 4px;\n",
              "    }\n",
              "\n",
              "    [theme=dark] .colab-df-convert {\n",
              "      background-color: #3B4455;\n",
              "      fill: #D2E3FC;\n",
              "    }\n",
              "\n",
              "    [theme=dark] .colab-df-convert:hover {\n",
              "      background-color: #434B5C;\n",
              "      box-shadow: 0px 1px 3px 1px rgba(0, 0, 0, 0.15);\n",
              "      filter: drop-shadow(0px 1px 2px rgba(0, 0, 0, 0.3));\n",
              "      fill: #FFFFFF;\n",
              "    }\n",
              "  </style>\n",
              "\n",
              "    <script>\n",
              "      const buttonEl =\n",
              "        document.querySelector('#df-b764ab25-82b3-4815-bb2d-52ce45e3a2af button.colab-df-convert');\n",
              "      buttonEl.style.display =\n",
              "        google.colab.kernel.accessAllowed ? 'block' : 'none';\n",
              "\n",
              "      async function convertToInteractive(key) {\n",
              "        const element = document.querySelector('#df-b764ab25-82b3-4815-bb2d-52ce45e3a2af');\n",
              "        const dataTable =\n",
              "          await google.colab.kernel.invokeFunction('convertToInteractive',\n",
              "                                                    [key], {});\n",
              "        if (!dataTable) return;\n",
              "\n",
              "        const docLinkHtml = 'Like what you see? Visit the ' +\n",
              "          '<a target=\"_blank\" href=https://colab.research.google.com/notebooks/data_table.ipynb>data table notebook</a>'\n",
              "          + ' to learn more about interactive tables.';\n",
              "        element.innerHTML = '';\n",
              "        dataTable['output_type'] = 'display_data';\n",
              "        await google.colab.output.renderOutput(dataTable, element);\n",
              "        const docLink = document.createElement('div');\n",
              "        docLink.innerHTML = docLinkHtml;\n",
              "        element.appendChild(docLink);\n",
              "      }\n",
              "    </script>\n",
              "  </div>\n",
              "\n",
              "\n",
              "<div id=\"df-e5978dbe-e6ae-48ca-8dc8-5e49cbc6ccd0\">\n",
              "  <button class=\"colab-df-quickchart\" onclick=\"quickchart('df-e5978dbe-e6ae-48ca-8dc8-5e49cbc6ccd0')\"\n",
              "            title=\"Suggest charts\"\n",
              "            style=\"display:none;\">\n",
              "\n",
              "<svg xmlns=\"http://www.w3.org/2000/svg\" height=\"24px\"viewBox=\"0 0 24 24\"\n",
              "     width=\"24px\">\n",
              "    <g>\n",
              "        <path d=\"M19 3H5c-1.1 0-2 .9-2 2v14c0 1.1.9 2 2 2h14c1.1 0 2-.9 2-2V5c0-1.1-.9-2-2-2zM9 17H7v-7h2v7zm4 0h-2V7h2v10zm4 0h-2v-4h2v4z\"/>\n",
              "    </g>\n",
              "</svg>\n",
              "  </button>\n",
              "\n",
              "<style>\n",
              "  .colab-df-quickchart {\n",
              "      --bg-color: #E8F0FE;\n",
              "      --fill-color: #1967D2;\n",
              "      --hover-bg-color: #E2EBFA;\n",
              "      --hover-fill-color: #174EA6;\n",
              "      --disabled-fill-color: #AAA;\n",
              "      --disabled-bg-color: #DDD;\n",
              "  }\n",
              "\n",
              "  [theme=dark] .colab-df-quickchart {\n",
              "      --bg-color: #3B4455;\n",
              "      --fill-color: #D2E3FC;\n",
              "      --hover-bg-color: #434B5C;\n",
              "      --hover-fill-color: #FFFFFF;\n",
              "      --disabled-bg-color: #3B4455;\n",
              "      --disabled-fill-color: #666;\n",
              "  }\n",
              "\n",
              "  .colab-df-quickchart {\n",
              "    background-color: var(--bg-color);\n",
              "    border: none;\n",
              "    border-radius: 50%;\n",
              "    cursor: pointer;\n",
              "    display: none;\n",
              "    fill: var(--fill-color);\n",
              "    height: 32px;\n",
              "    padding: 0;\n",
              "    width: 32px;\n",
              "  }\n",
              "\n",
              "  .colab-df-quickchart:hover {\n",
              "    background-color: var(--hover-bg-color);\n",
              "    box-shadow: 0 1px 2px rgba(60, 64, 67, 0.3), 0 1px 3px 1px rgba(60, 64, 67, 0.15);\n",
              "    fill: var(--button-hover-fill-color);\n",
              "  }\n",
              "\n",
              "  .colab-df-quickchart-complete:disabled,\n",
              "  .colab-df-quickchart-complete:disabled:hover {\n",
              "    background-color: var(--disabled-bg-color);\n",
              "    fill: var(--disabled-fill-color);\n",
              "    box-shadow: none;\n",
              "  }\n",
              "\n",
              "  .colab-df-spinner {\n",
              "    border: 2px solid var(--fill-color);\n",
              "    border-color: transparent;\n",
              "    border-bottom-color: var(--fill-color);\n",
              "    animation:\n",
              "      spin 1s steps(1) infinite;\n",
              "  }\n",
              "\n",
              "  @keyframes spin {\n",
              "    0% {\n",
              "      border-color: transparent;\n",
              "      border-bottom-color: var(--fill-color);\n",
              "      border-left-color: var(--fill-color);\n",
              "    }\n",
              "    20% {\n",
              "      border-color: transparent;\n",
              "      border-left-color: var(--fill-color);\n",
              "      border-top-color: var(--fill-color);\n",
              "    }\n",
              "    30% {\n",
              "      border-color: transparent;\n",
              "      border-left-color: var(--fill-color);\n",
              "      border-top-color: var(--fill-color);\n",
              "      border-right-color: var(--fill-color);\n",
              "    }\n",
              "    40% {\n",
              "      border-color: transparent;\n",
              "      border-right-color: var(--fill-color);\n",
              "      border-top-color: var(--fill-color);\n",
              "    }\n",
              "    60% {\n",
              "      border-color: transparent;\n",
              "      border-right-color: var(--fill-color);\n",
              "    }\n",
              "    80% {\n",
              "      border-color: transparent;\n",
              "      border-right-color: var(--fill-color);\n",
              "      border-bottom-color: var(--fill-color);\n",
              "    }\n",
              "    90% {\n",
              "      border-color: transparent;\n",
              "      border-bottom-color: var(--fill-color);\n",
              "    }\n",
              "  }\n",
              "</style>\n",
              "\n",
              "  <script>\n",
              "    async function quickchart(key) {\n",
              "      const quickchartButtonEl =\n",
              "        document.querySelector('#' + key + ' button');\n",
              "      quickchartButtonEl.disabled = true;  // To prevent multiple clicks.\n",
              "      quickchartButtonEl.classList.add('colab-df-spinner');\n",
              "      try {\n",
              "        const charts = await google.colab.kernel.invokeFunction(\n",
              "            'suggestCharts', [key], {});\n",
              "      } catch (error) {\n",
              "        console.error('Error during call to suggestCharts:', error);\n",
              "      }\n",
              "      quickchartButtonEl.classList.remove('colab-df-spinner');\n",
              "      quickchartButtonEl.classList.add('colab-df-quickchart-complete');\n",
              "    }\n",
              "    (() => {\n",
              "      let quickchartButtonEl =\n",
              "        document.querySelector('#df-e5978dbe-e6ae-48ca-8dc8-5e49cbc6ccd0 button');\n",
              "      quickchartButtonEl.style.display =\n",
              "        google.colab.kernel.accessAllowed ? 'block' : 'none';\n",
              "    })();\n",
              "  </script>\n",
              "</div>\n",
              "\n",
              "    </div>\n",
              "  </div>\n"
            ],
            "application/vnd.google.colaboratory.intrinsic+json": {
              "type": "dataframe",
              "summary": "{\n  \"name\": \"players\",\n  \"rows\": 10,\n  \"fields\": [\n    {\n      \"column\": \"Name\",\n      \"properties\": {\n        \"dtype\": \"string\",\n        \"num_unique_values\": 10,\n        \"samples\": [\n          \"Luca Koleosho\",\n          \"Stephan El Shaarawy\",\n          \"Giuseppe Caso\"\n        ],\n        \"semantic_type\": \"\",\n        \"description\": \"\"\n      }\n    },\n    {\n      \"column\": \"Transfermarkt link\",\n      \"properties\": {\n        \"dtype\": \"string\",\n        \"num_unique_values\": 10,\n        \"samples\": [\n          \"https://www.transfermarkt.com/luca-koleosho/profil/spieler/745461\",\n          \"https://www.transfermarkt.com/stephan-el-shaarawy/profil/spieler/94529\",\n          \"https://www.transfermarkt.com/giuseppe-caso/profil/spieler/398030\"\n        ],\n        \"semantic_type\": \"\",\n        \"description\": \"\"\n      }\n    },\n    {\n      \"column\": \"Transfermarkt name\",\n      \"properties\": {\n        \"dtype\": \"string\",\n        \"num_unique_values\": 10,\n        \"samples\": [\n          \"luca-koleosho\",\n          \"stephan-el-shaarawy\",\n          \"giuseppe-caso\"\n        ],\n        \"semantic_type\": \"\",\n        \"description\": \"\"\n      }\n    },\n    {\n      \"column\": \"Transfermarkt ID\",\n      \"properties\": {\n        \"dtype\": \"number\",\n        \"std\": 206942,\n        \"min\": 94529,\n        \"max\": 745461,\n        \"num_unique_values\": 10,\n        \"samples\": [\n          745461,\n          94529,\n          398030\n        ],\n        \"semantic_type\": \"\",\n        \"description\": \"\"\n      }\n    },\n    {\n      \"column\": \"Wikipedia name\",\n      \"properties\": {\n        \"dtype\": \"string\",\n        \"num_unique_values\": 10,\n        \"samples\": [\n          \"Luca_Koleosho\",\n          \"Stephan_El_Shaarawy\",\n          \"Giuseppe_Caso\"\n        ],\n        \"semantic_type\": \"\",\n        \"description\": \"\"\n      }\n    },\n    {\n      \"column\": \"Sofascore ID\",\n      \"properties\": {\n        \"dtype\": \"number\",\n        \"std\": 404999,\n        \"min\": 45925,\n        \"max\": 1216282,\n        \"num_unique_values\": 10,\n        \"samples\": [\n          1216282,\n          45925,\n          946985\n        ],\n        \"semantic_type\": \"\",\n        \"description\": \"\"\n      }\n    }\n  ]\n}"
            }
          },
          "metadata": {},
          "execution_count": 5
        }
      ]
    },
    {
      "cell_type": "code",
      "source": [
        "# Displaying the number of rows and columns in the dataset:\n",
        "players.shape"
      ],
      "metadata": {
        "id": "6NURRSp9kZZx",
        "outputId": "442bf5e5-2bec-4c58-d456-ee36485337c3",
        "colab": {
          "base_uri": "https://localhost:8080/"
        }
      },
      "execution_count": 6,
      "outputs": [
        {
          "output_type": "execute_result",
          "data": {
            "text/plain": [
              "(118, 6)"
            ]
          },
          "metadata": {},
          "execution_count": 6
        }
      ]
    },
    {
      "cell_type": "code",
      "source": [
        "# Displaying the datatypes of each column:\n",
        "players.info()"
      ],
      "metadata": {
        "id": "0-c--RuaGLgZ",
        "outputId": "d5d74560-0618-4e97-95e8-b492e2f39386",
        "colab": {
          "base_uri": "https://localhost:8080/"
        }
      },
      "execution_count": 7,
      "outputs": [
        {
          "output_type": "stream",
          "name": "stdout",
          "text": [
            "<class 'pandas.core.frame.DataFrame'>\n",
            "RangeIndex: 118 entries, 0 to 117\n",
            "Data columns (total 6 columns):\n",
            " #   Column              Non-Null Count  Dtype \n",
            "---  ------              --------------  ----- \n",
            " 0   Name                118 non-null    object\n",
            " 1   Transfermarkt link  118 non-null    object\n",
            " 2   Transfermarkt name  118 non-null    object\n",
            " 3   Transfermarkt ID    118 non-null    int64 \n",
            " 4   Wikipedia name      118 non-null    object\n",
            " 5   Sofascore ID        118 non-null    int64 \n",
            "dtypes: int64(2), object(4)\n",
            "memory usage: 5.7+ KB\n"
          ]
        }
      ]
    },
    {
      "cell_type": "code",
      "source": [
        "# Getting the URL:\n",
        "name = 'francesco-acerbi'\n",
        "id = '126816'\n",
        "url = 'https://www.sofascore.com/player/' + name + '/' + id + '#tab:statistics'\n",
        "req = requests.get(url)\n",
        "\n",
        "# Parsing the HTML page:\n",
        "soup = BeautifulSoup(req.content, 'html.parser')\n",
        "\n",
        "# Finding the table:\n",
        "table = soup.find(name='Box Flex dlyXLO bnpRyo')\n",
        "print(table)\n",
        "\n",
        "# From HTML Table to PANDAS DataFrame\n",
        "#df = pd.read_html(str(table))[0].set_index('Text ietnEf')\n",
        "#df.head()"
      ],
      "metadata": {
        "id": "TGI16TGAOJTk",
        "outputId": "0d01a751-ddb4-4d0c-a3a8-11e77b870383",
        "colab": {
          "base_uri": "https://localhost:8080/"
        }
      },
      "execution_count": 20,
      "outputs": [
        {
          "output_type": "stream",
          "name": "stdout",
          "text": [
            "None\n"
          ]
        }
      ]
    },
    {
      "cell_type": "code",
      "source": [
        "url = 'https://www.transfermarkt.com/federico-baschirotto/leistungsdaten/spieler/351955/plus/0?saison=2023'\n",
        "url1 = 'https://en.wikipedia.org/wiki/Federico_Baschirotto'\n",
        "url2 = 'https://www.sofascore.com/player/francesco-acerbi/126816'\n",
        "\n",
        "name = 'francesco-acerbi'\n",
        "id = '126816'\n",
        "url3 = 'https://www.sofascore.com/player/' + name + '/' + id + '#tab:statistics'\n",
        "\n",
        "# Fetch the html file\n",
        "response = requests.get(url3)\n",
        "if response.status_code != 200:\n",
        "  print('Could not fetch the page...')\n",
        "  exit(1)\n",
        "\n",
        "print('Successfully fetched the page!')\n",
        "\n",
        "#soup = BeautifulSoup(response.content, 'html_parser')\n",
        "#articles = soup.find_all('article')\n",
        "\n",
        "#titles = []"
      ],
      "metadata": {
        "id": "7HekDeXItR5N",
        "outputId": "21e69a84-659b-4ab4-e95d-bd0e5f9fc17e",
        "colab": {
          "base_uri": "https://localhost:8080/"
        }
      },
      "execution_count": null,
      "outputs": [
        {
          "output_type": "stream",
          "name": "stdout",
          "text": [
            "Successfully fetched the page!\n"
          ]
        }
      ]
    },
    {
      "cell_type": "code",
      "source": [
        "soup = BeautifulSoup(html_doc, 'html.parser')\n",
        "\n",
        "print (soup.title)\n",
        "print(soup.title.string)\n",
        "print(soup.a.string)\n"
      ],
      "metadata": {
        "id": "i3Gt_xrJb_CC",
        "outputId": "1071938b-1f9a-4eca-d87f-97550957e2e7",
        "colab": {
          "base_uri": "https://localhost:8080/"
        }
      },
      "execution_count": null,
      "outputs": [
        {
          "output_type": "stream",
          "name": "stdout",
          "text": [
            "<title>Francesco Acerbi stats and ratings | Sofascore</title>\n",
            "Francesco Acerbi stats and ratings | Sofascore\n",
            "None\n"
          ]
        }
      ]
    },
    {
      "cell_type": "code",
      "source": [
        "for x in soup.find_all('a'): print(x.string)\n"
      ],
      "metadata": {
        "id": "RJTRfl0PcQ66",
        "outputId": "a7471173-dba5-4fb5-f043-b36b5f336c8d",
        "colab": {
          "base_uri": "https://localhost:8080/"
        }
      },
      "execution_count": null,
      "outputs": [
        {
          "output_type": "stream",
          "name": "stdout",
          "text": [
            "None\n",
            "None\n",
            "None\n",
            "None\n",
            "None\n",
            "None\n",
            "None\n",
            "Football\n",
            "Italy\n",
            "Serie A\n",
            "Details\n",
            "Matches\n",
            "None\n",
            "Football\n",
            "Italy\n",
            "Serie A\n",
            "None\n",
            "None\n",
            "None\n",
            "None\n",
            "None\n",
            "None\n",
            "None\n",
            "None\n",
            "None\n",
            "None\n",
            "None\n",
            "None\n",
            "None\n",
            "None\n"
          ]
        }
      ]
    }
  ]
}