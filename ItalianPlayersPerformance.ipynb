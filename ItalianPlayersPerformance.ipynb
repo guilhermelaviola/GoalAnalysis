{
  "nbformat": 4,
  "nbformat_minor": 0,
  "metadata": {
    "colab": {
      "provenance": [],
      "authorship_tag": "ABX9TyOiKAWfvYBX7/FGJOS03szx",
      "include_colab_link": true
    },
    "kernelspec": {
      "name": "python3",
      "display_name": "Python 3"
    },
    "language_info": {
      "name": "python"
    }
  },
  "cells": [
    {
      "cell_type": "markdown",
      "metadata": {
        "id": "view-in-github",
        "colab_type": "text"
      },
      "source": [
        "<a href=\"https://colab.research.google.com/github/guilhermelaviola/GoalAnalysis/blob/main/ItalianPlayersPerformance.ipynb\" target=\"_parent\"><img src=\"https://colab.research.google.com/assets/colab-badge.svg\" alt=\"Open In Colab\"/></a>"
      ]
    },
    {
      "cell_type": "code",
      "source": [
        "!pip install python-dateutil"
      ],
      "metadata": {
        "id": "KoBG3rwy5qBR",
        "outputId": "5a359ddb-8a48-4b28-8209-8426912f066a",
        "colab": {
          "base_uri": "https://localhost:8080/"
        }
      },
      "execution_count": 1,
      "outputs": [
        {
          "output_type": "stream",
          "name": "stdout",
          "text": [
            "Requirement already satisfied: python-dateutil in /usr/local/lib/python3.10/dist-packages (2.8.2)\n",
            "Requirement already satisfied: six>=1.5 in /usr/local/lib/python3.10/dist-packages (from python-dateutil) (1.16.0)\n"
          ]
        }
      ]
    },
    {
      "cell_type": "code",
      "source": [
        "!pip install urllib"
      ],
      "metadata": {
        "id": "MCvUM3kaZCfs",
        "outputId": "ed34eafa-df81-44a4-e096-f5b22fae5077",
        "colab": {
          "base_uri": "https://localhost:8080/"
        }
      },
      "execution_count": 2,
      "outputs": [
        {
          "output_type": "stream",
          "name": "stdout",
          "text": [
            "\u001b[31mERROR: Could not find a version that satisfies the requirement urllib (from versions: none)\u001b[0m\u001b[31m\n",
            "\u001b[0m\u001b[31mERROR: No matching distribution found for urllib\u001b[0m\u001b[31m\n",
            "\u001b[0m"
          ]
        }
      ]
    },
    {
      "cell_type": "code",
      "execution_count": 3,
      "metadata": {
        "colab": {
          "base_uri": "https://localhost:8080/"
        },
        "id": "zlqj2fqojW4N",
        "outputId": "6f8c354a-3f1e-4ad0-8a29-7fa1cb250d36"
      },
      "outputs": [
        {
          "output_type": "stream",
          "name": "stderr",
          "text": [
            "<ipython-input-3-6a62df003bd3>:11: MatplotlibDeprecationWarning: The seaborn styles shipped by Matplotlib are deprecated since 3.6, as they no longer correspond to the styles shipped by seaborn. However, they will remain available as 'seaborn-v0_8-<style>'. Alternatively, directly use the seaborn API instead.\n",
            "  plt.style.use('seaborn-pastel')\n"
          ]
        }
      ],
      "source": [
        "# Importing all the necessary libraries:\n",
        "import numpy as np\n",
        "import pandas as pd\n",
        "import seaborn as sns\n",
        "import urllib\n",
        "import matplotlib.pyplot as plt\n",
        "from bs4 import BeautifulSoup\n",
        "from dateutil.relativedelta import relativedelta\n",
        "from datetime import datetime, date\n",
        "sns.set(style = 'darkgrid')\n",
        "plt.style.use('seaborn-pastel')"
      ]
    },
    {
      "cell_type": "code",
      "source": [
        "# Importing and displaying the last 10 players:\n",
        "df = pd.ExcelFile('it-players.xlsx')\n",
        "players = pd.read_excel(df, 'it-players-transfermarkt')\n",
        "players.tail(10)"
      ],
      "metadata": {
        "colab": {
          "base_uri": "https://localhost:8080/",
          "height": 363
        },
        "id": "fwDk43_bkGId",
        "outputId": "8cccd5d5-9822-4c2d-9e28-e08417495e14"
      },
      "execution_count": 4,
      "outputs": [
        {
          "output_type": "execute_result",
          "data": {
            "text/plain": [
              "                    Name                                 Transfermarkt link  \\\n",
              "108      Wilfried Gnonto  https://www.transfermarkt.com/wilfried-gnonto/...   \n",
              "109        Luca D'Andrea  https://www.transfermarkt.com/luca-dandrea/pro...   \n",
              "110  Stephan El Shaarawy  https://www.transfermarkt.com/stephan-el-shaar...   \n",
              "111       Vincenzo Grifo  https://www.transfermarkt.com/vincenzo-grifo/p...   \n",
              "112      Mattia Zaccagni  https://www.transfermarkt.com/mattia-zaccagni/...   \n",
              "113      Federico Chiesa  https://www.transfermarkt.com/federico-chiesa/...   \n",
              "114        Giuseppe Caso  https://www.transfermarkt.com/giuseppe-caso/pr...   \n",
              "115       Alessio Zerbin  https://www.transfermarkt.com/alessio-zerbin/p...   \n",
              "116      Riccardo Sottil  https://www.transfermarkt.com/riccardo-sottil/...   \n",
              "117        Luca Koleosho  https://www.transfermarkt.com/luca-koleosho/pr...   \n",
              "\n",
              "      Transfermarkt name  Transfermarkt ID       Wikipedia name  \\\n",
              "108      wilfried-gnonto            627626      Wilfried_Gnonto   \n",
              "109         luca-dandrea            725242        Luca_D'Andrea   \n",
              "110  stephan-el-shaarawy             94529  Stephan_El_Shaarawy   \n",
              "111       vincenzo-grifo            185077       Vincenzo_Grifo   \n",
              "112      mattia-zaccagni            283735      Mattia_Zaccagni   \n",
              "113      federico-chiesa            341092      Federico_Chiesa   \n",
              "114        giuseppe-caso            398030        Giuseppe_Caso   \n",
              "115       alessio-zerbin            433584       Alessio_Zerbin   \n",
              "116      riccardo-sottil            386455      Riccardo_Sottil   \n",
              "117        luca-koleosho            745461        Luca_Koleosho   \n",
              "\n",
              "    Sofascore link  Sofascore ID  \n",
              "108            NaN           NaN  \n",
              "109            NaN           NaN  \n",
              "110            NaN           NaN  \n",
              "111            NaN           NaN  \n",
              "112            NaN           NaN  \n",
              "113            NaN           NaN  \n",
              "114            NaN           NaN  \n",
              "115            NaN           NaN  \n",
              "116            NaN           NaN  \n",
              "117            NaN           NaN  "
            ],
            "text/html": [
              "\n",
              "  <div id=\"df-4e2c2cd7-6967-460d-8547-51f37e455869\" class=\"colab-df-container\">\n",
              "    <div>\n",
              "<style scoped>\n",
              "    .dataframe tbody tr th:only-of-type {\n",
              "        vertical-align: middle;\n",
              "    }\n",
              "\n",
              "    .dataframe tbody tr th {\n",
              "        vertical-align: top;\n",
              "    }\n",
              "\n",
              "    .dataframe thead th {\n",
              "        text-align: right;\n",
              "    }\n",
              "</style>\n",
              "<table border=\"1\" class=\"dataframe\">\n",
              "  <thead>\n",
              "    <tr style=\"text-align: right;\">\n",
              "      <th></th>\n",
              "      <th>Name</th>\n",
              "      <th>Transfermarkt link</th>\n",
              "      <th>Transfermarkt name</th>\n",
              "      <th>Transfermarkt ID</th>\n",
              "      <th>Wikipedia name</th>\n",
              "      <th>Sofascore link</th>\n",
              "      <th>Sofascore ID</th>\n",
              "    </tr>\n",
              "  </thead>\n",
              "  <tbody>\n",
              "    <tr>\n",
              "      <th>108</th>\n",
              "      <td>Wilfried Gnonto</td>\n",
              "      <td>https://www.transfermarkt.com/wilfried-gnonto/...</td>\n",
              "      <td>wilfried-gnonto</td>\n",
              "      <td>627626</td>\n",
              "      <td>Wilfried_Gnonto</td>\n",
              "      <td>NaN</td>\n",
              "      <td>NaN</td>\n",
              "    </tr>\n",
              "    <tr>\n",
              "      <th>109</th>\n",
              "      <td>Luca D'Andrea</td>\n",
              "      <td>https://www.transfermarkt.com/luca-dandrea/pro...</td>\n",
              "      <td>luca-dandrea</td>\n",
              "      <td>725242</td>\n",
              "      <td>Luca_D'Andrea</td>\n",
              "      <td>NaN</td>\n",
              "      <td>NaN</td>\n",
              "    </tr>\n",
              "    <tr>\n",
              "      <th>110</th>\n",
              "      <td>Stephan El Shaarawy</td>\n",
              "      <td>https://www.transfermarkt.com/stephan-el-shaar...</td>\n",
              "      <td>stephan-el-shaarawy</td>\n",
              "      <td>94529</td>\n",
              "      <td>Stephan_El_Shaarawy</td>\n",
              "      <td>NaN</td>\n",
              "      <td>NaN</td>\n",
              "    </tr>\n",
              "    <tr>\n",
              "      <th>111</th>\n",
              "      <td>Vincenzo Grifo</td>\n",
              "      <td>https://www.transfermarkt.com/vincenzo-grifo/p...</td>\n",
              "      <td>vincenzo-grifo</td>\n",
              "      <td>185077</td>\n",
              "      <td>Vincenzo_Grifo</td>\n",
              "      <td>NaN</td>\n",
              "      <td>NaN</td>\n",
              "    </tr>\n",
              "    <tr>\n",
              "      <th>112</th>\n",
              "      <td>Mattia Zaccagni</td>\n",
              "      <td>https://www.transfermarkt.com/mattia-zaccagni/...</td>\n",
              "      <td>mattia-zaccagni</td>\n",
              "      <td>283735</td>\n",
              "      <td>Mattia_Zaccagni</td>\n",
              "      <td>NaN</td>\n",
              "      <td>NaN</td>\n",
              "    </tr>\n",
              "    <tr>\n",
              "      <th>113</th>\n",
              "      <td>Federico Chiesa</td>\n",
              "      <td>https://www.transfermarkt.com/federico-chiesa/...</td>\n",
              "      <td>federico-chiesa</td>\n",
              "      <td>341092</td>\n",
              "      <td>Federico_Chiesa</td>\n",
              "      <td>NaN</td>\n",
              "      <td>NaN</td>\n",
              "    </tr>\n",
              "    <tr>\n",
              "      <th>114</th>\n",
              "      <td>Giuseppe Caso</td>\n",
              "      <td>https://www.transfermarkt.com/giuseppe-caso/pr...</td>\n",
              "      <td>giuseppe-caso</td>\n",
              "      <td>398030</td>\n",
              "      <td>Giuseppe_Caso</td>\n",
              "      <td>NaN</td>\n",
              "      <td>NaN</td>\n",
              "    </tr>\n",
              "    <tr>\n",
              "      <th>115</th>\n",
              "      <td>Alessio Zerbin</td>\n",
              "      <td>https://www.transfermarkt.com/alessio-zerbin/p...</td>\n",
              "      <td>alessio-zerbin</td>\n",
              "      <td>433584</td>\n",
              "      <td>Alessio_Zerbin</td>\n",
              "      <td>NaN</td>\n",
              "      <td>NaN</td>\n",
              "    </tr>\n",
              "    <tr>\n",
              "      <th>116</th>\n",
              "      <td>Riccardo Sottil</td>\n",
              "      <td>https://www.transfermarkt.com/riccardo-sottil/...</td>\n",
              "      <td>riccardo-sottil</td>\n",
              "      <td>386455</td>\n",
              "      <td>Riccardo_Sottil</td>\n",
              "      <td>NaN</td>\n",
              "      <td>NaN</td>\n",
              "    </tr>\n",
              "    <tr>\n",
              "      <th>117</th>\n",
              "      <td>Luca Koleosho</td>\n",
              "      <td>https://www.transfermarkt.com/luca-koleosho/pr...</td>\n",
              "      <td>luca-koleosho</td>\n",
              "      <td>745461</td>\n",
              "      <td>Luca_Koleosho</td>\n",
              "      <td>NaN</td>\n",
              "      <td>NaN</td>\n",
              "    </tr>\n",
              "  </tbody>\n",
              "</table>\n",
              "</div>\n",
              "    <div class=\"colab-df-buttons\">\n",
              "\n",
              "  <div class=\"colab-df-container\">\n",
              "    <button class=\"colab-df-convert\" onclick=\"convertToInteractive('df-4e2c2cd7-6967-460d-8547-51f37e455869')\"\n",
              "            title=\"Convert this dataframe to an interactive table.\"\n",
              "            style=\"display:none;\">\n",
              "\n",
              "  <svg xmlns=\"http://www.w3.org/2000/svg\" height=\"24px\" viewBox=\"0 -960 960 960\">\n",
              "    <path d=\"M120-120v-720h720v720H120Zm60-500h600v-160H180v160Zm220 220h160v-160H400v160Zm0 220h160v-160H400v160ZM180-400h160v-160H180v160Zm440 0h160v-160H620v160ZM180-180h160v-160H180v160Zm440 0h160v-160H620v160Z\"/>\n",
              "  </svg>\n",
              "    </button>\n",
              "\n",
              "  <style>\n",
              "    .colab-df-container {\n",
              "      display:flex;\n",
              "      gap: 12px;\n",
              "    }\n",
              "\n",
              "    .colab-df-convert {\n",
              "      background-color: #E8F0FE;\n",
              "      border: none;\n",
              "      border-radius: 50%;\n",
              "      cursor: pointer;\n",
              "      display: none;\n",
              "      fill: #1967D2;\n",
              "      height: 32px;\n",
              "      padding: 0 0 0 0;\n",
              "      width: 32px;\n",
              "    }\n",
              "\n",
              "    .colab-df-convert:hover {\n",
              "      background-color: #E2EBFA;\n",
              "      box-shadow: 0px 1px 2px rgba(60, 64, 67, 0.3), 0px 1px 3px 1px rgba(60, 64, 67, 0.15);\n",
              "      fill: #174EA6;\n",
              "    }\n",
              "\n",
              "    .colab-df-buttons div {\n",
              "      margin-bottom: 4px;\n",
              "    }\n",
              "\n",
              "    [theme=dark] .colab-df-convert {\n",
              "      background-color: #3B4455;\n",
              "      fill: #D2E3FC;\n",
              "    }\n",
              "\n",
              "    [theme=dark] .colab-df-convert:hover {\n",
              "      background-color: #434B5C;\n",
              "      box-shadow: 0px 1px 3px 1px rgba(0, 0, 0, 0.15);\n",
              "      filter: drop-shadow(0px 1px 2px rgba(0, 0, 0, 0.3));\n",
              "      fill: #FFFFFF;\n",
              "    }\n",
              "  </style>\n",
              "\n",
              "    <script>\n",
              "      const buttonEl =\n",
              "        document.querySelector('#df-4e2c2cd7-6967-460d-8547-51f37e455869 button.colab-df-convert');\n",
              "      buttonEl.style.display =\n",
              "        google.colab.kernel.accessAllowed ? 'block' : 'none';\n",
              "\n",
              "      async function convertToInteractive(key) {\n",
              "        const element = document.querySelector('#df-4e2c2cd7-6967-460d-8547-51f37e455869');\n",
              "        const dataTable =\n",
              "          await google.colab.kernel.invokeFunction('convertToInteractive',\n",
              "                                                    [key], {});\n",
              "        if (!dataTable) return;\n",
              "\n",
              "        const docLinkHtml = 'Like what you see? Visit the ' +\n",
              "          '<a target=\"_blank\" href=https://colab.research.google.com/notebooks/data_table.ipynb>data table notebook</a>'\n",
              "          + ' to learn more about interactive tables.';\n",
              "        element.innerHTML = '';\n",
              "        dataTable['output_type'] = 'display_data';\n",
              "        await google.colab.output.renderOutput(dataTable, element);\n",
              "        const docLink = document.createElement('div');\n",
              "        docLink.innerHTML = docLinkHtml;\n",
              "        element.appendChild(docLink);\n",
              "      }\n",
              "    </script>\n",
              "  </div>\n",
              "\n",
              "\n",
              "<div id=\"df-fd4f3008-2d32-4764-9083-3e1a0ab5adbf\">\n",
              "  <button class=\"colab-df-quickchart\" onclick=\"quickchart('df-fd4f3008-2d32-4764-9083-3e1a0ab5adbf')\"\n",
              "            title=\"Suggest charts\"\n",
              "            style=\"display:none;\">\n",
              "\n",
              "<svg xmlns=\"http://www.w3.org/2000/svg\" height=\"24px\"viewBox=\"0 0 24 24\"\n",
              "     width=\"24px\">\n",
              "    <g>\n",
              "        <path d=\"M19 3H5c-1.1 0-2 .9-2 2v14c0 1.1.9 2 2 2h14c1.1 0 2-.9 2-2V5c0-1.1-.9-2-2-2zM9 17H7v-7h2v7zm4 0h-2V7h2v10zm4 0h-2v-4h2v4z\"/>\n",
              "    </g>\n",
              "</svg>\n",
              "  </button>\n",
              "\n",
              "<style>\n",
              "  .colab-df-quickchart {\n",
              "      --bg-color: #E8F0FE;\n",
              "      --fill-color: #1967D2;\n",
              "      --hover-bg-color: #E2EBFA;\n",
              "      --hover-fill-color: #174EA6;\n",
              "      --disabled-fill-color: #AAA;\n",
              "      --disabled-bg-color: #DDD;\n",
              "  }\n",
              "\n",
              "  [theme=dark] .colab-df-quickchart {\n",
              "      --bg-color: #3B4455;\n",
              "      --fill-color: #D2E3FC;\n",
              "      --hover-bg-color: #434B5C;\n",
              "      --hover-fill-color: #FFFFFF;\n",
              "      --disabled-bg-color: #3B4455;\n",
              "      --disabled-fill-color: #666;\n",
              "  }\n",
              "\n",
              "  .colab-df-quickchart {\n",
              "    background-color: var(--bg-color);\n",
              "    border: none;\n",
              "    border-radius: 50%;\n",
              "    cursor: pointer;\n",
              "    display: none;\n",
              "    fill: var(--fill-color);\n",
              "    height: 32px;\n",
              "    padding: 0;\n",
              "    width: 32px;\n",
              "  }\n",
              "\n",
              "  .colab-df-quickchart:hover {\n",
              "    background-color: var(--hover-bg-color);\n",
              "    box-shadow: 0 1px 2px rgba(60, 64, 67, 0.3), 0 1px 3px 1px rgba(60, 64, 67, 0.15);\n",
              "    fill: var(--button-hover-fill-color);\n",
              "  }\n",
              "\n",
              "  .colab-df-quickchart-complete:disabled,\n",
              "  .colab-df-quickchart-complete:disabled:hover {\n",
              "    background-color: var(--disabled-bg-color);\n",
              "    fill: var(--disabled-fill-color);\n",
              "    box-shadow: none;\n",
              "  }\n",
              "\n",
              "  .colab-df-spinner {\n",
              "    border: 2px solid var(--fill-color);\n",
              "    border-color: transparent;\n",
              "    border-bottom-color: var(--fill-color);\n",
              "    animation:\n",
              "      spin 1s steps(1) infinite;\n",
              "  }\n",
              "\n",
              "  @keyframes spin {\n",
              "    0% {\n",
              "      border-color: transparent;\n",
              "      border-bottom-color: var(--fill-color);\n",
              "      border-left-color: var(--fill-color);\n",
              "    }\n",
              "    20% {\n",
              "      border-color: transparent;\n",
              "      border-left-color: var(--fill-color);\n",
              "      border-top-color: var(--fill-color);\n",
              "    }\n",
              "    30% {\n",
              "      border-color: transparent;\n",
              "      border-left-color: var(--fill-color);\n",
              "      border-top-color: var(--fill-color);\n",
              "      border-right-color: var(--fill-color);\n",
              "    }\n",
              "    40% {\n",
              "      border-color: transparent;\n",
              "      border-right-color: var(--fill-color);\n",
              "      border-top-color: var(--fill-color);\n",
              "    }\n",
              "    60% {\n",
              "      border-color: transparent;\n",
              "      border-right-color: var(--fill-color);\n",
              "    }\n",
              "    80% {\n",
              "      border-color: transparent;\n",
              "      border-right-color: var(--fill-color);\n",
              "      border-bottom-color: var(--fill-color);\n",
              "    }\n",
              "    90% {\n",
              "      border-color: transparent;\n",
              "      border-bottom-color: var(--fill-color);\n",
              "    }\n",
              "  }\n",
              "</style>\n",
              "\n",
              "  <script>\n",
              "    async function quickchart(key) {\n",
              "      const quickchartButtonEl =\n",
              "        document.querySelector('#' + key + ' button');\n",
              "      quickchartButtonEl.disabled = true;  // To prevent multiple clicks.\n",
              "      quickchartButtonEl.classList.add('colab-df-spinner');\n",
              "      try {\n",
              "        const charts = await google.colab.kernel.invokeFunction(\n",
              "            'suggestCharts', [key], {});\n",
              "      } catch (error) {\n",
              "        console.error('Error during call to suggestCharts:', error);\n",
              "      }\n",
              "      quickchartButtonEl.classList.remove('colab-df-spinner');\n",
              "      quickchartButtonEl.classList.add('colab-df-quickchart-complete');\n",
              "    }\n",
              "    (() => {\n",
              "      let quickchartButtonEl =\n",
              "        document.querySelector('#df-fd4f3008-2d32-4764-9083-3e1a0ab5adbf button');\n",
              "      quickchartButtonEl.style.display =\n",
              "        google.colab.kernel.accessAllowed ? 'block' : 'none';\n",
              "    })();\n",
              "  </script>\n",
              "</div>\n",
              "\n",
              "    </div>\n",
              "  </div>\n"
            ],
            "application/vnd.google.colaboratory.intrinsic+json": {
              "type": "dataframe",
              "repr_error": "0"
            }
          },
          "metadata": {},
          "execution_count": 4
        }
      ]
    },
    {
      "cell_type": "code",
      "source": [
        "# Displaying the number of rows and columns in the dataset:\n",
        "players.shape"
      ],
      "metadata": {
        "id": "6NURRSp9kZZx",
        "outputId": "08a6f457-5dd9-4d39-e7f1-9ce480c5fb1f",
        "colab": {
          "base_uri": "https://localhost:8080/"
        }
      },
      "execution_count": 5,
      "outputs": [
        {
          "output_type": "execute_result",
          "data": {
            "text/plain": [
              "(118, 7)"
            ]
          },
          "metadata": {},
          "execution_count": 5
        }
      ]
    },
    {
      "cell_type": "code",
      "source": [
        "# Displaying the datatypes of each column:\n",
        "players.info()"
      ],
      "metadata": {
        "id": "0-c--RuaGLgZ",
        "outputId": "84e1e84f-982e-421b-a578-6c4a8f9e155d",
        "colab": {
          "base_uri": "https://localhost:8080/"
        }
      },
      "execution_count": 6,
      "outputs": [
        {
          "output_type": "stream",
          "name": "stdout",
          "text": [
            "<class 'pandas.core.frame.DataFrame'>\n",
            "RangeIndex: 118 entries, 0 to 117\n",
            "Data columns (total 7 columns):\n",
            " #   Column              Non-Null Count  Dtype  \n",
            "---  ------              --------------  -----  \n",
            " 0   Name                118 non-null    object \n",
            " 1   Transfermarkt link  118 non-null    object \n",
            " 2   Transfermarkt name  118 non-null    object \n",
            " 3   Transfermarkt ID    118 non-null    int64  \n",
            " 4   Wikipedia name      118 non-null    object \n",
            " 5   Sofascore link      12 non-null     object \n",
            " 6   Sofascore ID        8 non-null      float64\n",
            "dtypes: float64(1), int64(1), object(5)\n",
            "memory usage: 6.6+ KB\n"
          ]
        }
      ]
    },
    {
      "cell_type": "code",
      "source": [
        "url = 'https://www.transfermarkt.com/federico-baschirotto/leistungsdaten/spieler/351955/plus/0?saison=2023'\n",
        "url1 = 'https://en.wikipedia.org/wiki/Federico_Baschirotto'\n",
        "url2 = 'https://www.sofascore.com/player/francesco-acerbi/126816'\n",
        "\n",
        "name = 'francesco-acerbi'\n",
        "id = '126816'\n",
        "url3 = 'https://www.sofascore.com/player/' + name + '/' + id\n",
        "\n",
        "# Fetch the html file\n",
        "response = urllib.request.urlopen(url3)\n",
        "html_doc = response.read()\n",
        "\n",
        "# Parse the html file\n",
        "soup = BeautifulSoup(html_doc, 'html.parser')\n",
        "\n",
        "# Format the parsed html file\n",
        "strhtm = soup.prettify()\n",
        "\n",
        "# Print the first few characters\n",
        "print (strhtm[:225])"
      ],
      "metadata": {
        "id": "7HekDeXItR5N",
        "outputId": "5c1b6b72-52a3-4ec8-ebcd-8b2cb088c233",
        "colab": {
          "base_uri": "https://localhost:8080/"
        }
      },
      "execution_count": 12,
      "outputs": [
        {
          "output_type": "stream",
          "name": "stdout",
          "text": [
            "<!DOCTYPE html>\n",
            "<html lang=\"en\" translate=\"no\">\n",
            " <head>\n",
            "  <meta charset=\"utf-8\"/>\n",
            "  <meta content=\"width=device-width\" name=\"viewport\"/>\n",
            "  <meta content=\"width=device-width, initial-scale=1, shrink-to-fit=no\" name=\"viewport\"/\n"
          ]
        }
      ]
    },
    {
      "cell_type": "code",
      "source": [
        "soup = BeautifulSoup(html_doc, 'html.parser')\n",
        "\n",
        "print (soup.title)\n",
        "print(soup.title.string)\n",
        "print(soup.a.string)\n"
      ],
      "metadata": {
        "id": "i3Gt_xrJb_CC",
        "outputId": "1071938b-1f9a-4eca-d87f-97550957e2e7",
        "colab": {
          "base_uri": "https://localhost:8080/"
        }
      },
      "execution_count": 13,
      "outputs": [
        {
          "output_type": "stream",
          "name": "stdout",
          "text": [
            "<title>Francesco Acerbi stats and ratings | Sofascore</title>\n",
            "Francesco Acerbi stats and ratings | Sofascore\n",
            "None\n"
          ]
        }
      ]
    },
    {
      "cell_type": "code",
      "source": [
        "for x in soup.find_all('a'): print(x.string)\n"
      ],
      "metadata": {
        "id": "RJTRfl0PcQ66",
        "outputId": "a7471173-dba5-4fb5-f043-b36b5f336c8d",
        "colab": {
          "base_uri": "https://localhost:8080/"
        }
      },
      "execution_count": 14,
      "outputs": [
        {
          "output_type": "stream",
          "name": "stdout",
          "text": [
            "None\n",
            "None\n",
            "None\n",
            "None\n",
            "None\n",
            "None\n",
            "None\n",
            "Football\n",
            "Italy\n",
            "Serie A\n",
            "Details\n",
            "Matches\n",
            "None\n",
            "Football\n",
            "Italy\n",
            "Serie A\n",
            "None\n",
            "None\n",
            "None\n",
            "None\n",
            "None\n",
            "None\n",
            "None\n",
            "None\n",
            "None\n",
            "None\n",
            "None\n",
            "None\n",
            "None\n",
            "None\n"
          ]
        }
      ]
    }
  ]
}